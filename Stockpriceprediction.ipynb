{
  "nbformat": 4,
  "nbformat_minor": 0,
  "metadata": {
    "colab": {
      "provenance": []
    },
    "kernelspec": {
      "name": "python3",
      "display_name": "Python 3"
    },
    "language_info": {
      "name": "python"
    }
  },
  "cells": [
    {
      "cell_type": "code",
      "source": [
        "import pandas as pd\n",
        "import numpy as np\n",
        "import matplotlib.pyplot as plt\n",
        "import yfinance as yf\n",
        "import plotly.express as px\n",
        "import plotly.graph_objects as go\n",
        "from plotly.subplots import make_subplots\n",
        "from fbprophet import Prophet\n",
        "from fbprophet.plot import plot_plotly, plot_components_plotly\n",
        "from sklearn.metrics import mean_squared_error, mean_absolute_error, explained_variance_score, r2_score\n",
        "from math import sqrt\n",
        "import warnings\n",
        "warnings.filterwarnings(\"ignore\")"
      ],
      "metadata": {
        "id": "zKPk6odfgYwL"
      },
      "execution_count": null,
      "outputs": []
    },
    {
      "cell_type": "code",
      "source": [
        "tcs_tick=yf.Ticker(\"TCS.NS\")\n",
        "ril_tick=yf.Ticker(\"RELIANCE.NS\")\n",
        "bank_tick=yf.Ticker(\"ICICIBANK.NS\")\n",
        "bajfin_tick=yf.Ticker(\"BAJFINANCE.NS\")\n",
        "airtel_tick=yf.Ticker(\"BHARTIARTL.NS\")"
      ],
      "metadata": {
        "id": "3yLjOY-Tgf-G"
      },
      "execution_count": null,
      "outputs": []
    },
    {
      "cell_type": "code",
      "source": [
        "tcs=tcs_tick.history(period=\"max\")\n",
        "ril=ril_tick.history(period=\"max\")\n",
        "bank=bank_tick.history(period=\"max\")\n",
        "bajfin=bajfin_tick.history(period=\"max\")\n",
        "artl=airtel_tick.history(period=\"max\")"
      ],
      "metadata": {
        "id": "zed6nAcBgYys"
      },
      "execution_count": null,
      "outputs": []
    },
    {
      "cell_type": "code",
      "source": [
        "tcs.head()"
      ],
      "metadata": {
        "id": "1FV8eRwzgY1q"
      },
      "execution_count": null,
      "outputs": []
    },
    {
      "cell_type": "code",
      "source": [
        "ril.head()"
      ],
      "metadata": {
        "id": "6OWAYAa5gY4T"
      },
      "execution_count": null,
      "outputs": []
    },
    {
      "cell_type": "code",
      "source": [
        "bank.head()"
      ],
      "metadata": {
        "id": "_qiFfzzwgY6n"
      },
      "execution_count": null,
      "outputs": []
    },
    {
      "cell_type": "code",
      "source": [
        "bajfin.head()"
      ],
      "metadata": {
        "id": "ZT9OmyGMgY9L"
      },
      "execution_count": null,
      "outputs": []
    },
    {
      "cell_type": "code",
      "source": [
        "tcs[\"Date\"]=tcs.index\n",
        "ril[\"Date\"]=ril.index\n",
        "bank[\"Date\"]=bank.index\n",
        "bajfin[\"Date\"]=bajfin.index\n",
        "artl[\"Date\"]=artl.index"
      ],
      "metadata": {
        "id": "DY35p5S7gY_j"
      },
      "execution_count": null,
      "outputs": []
    },
    {
      "cell_type": "code",
      "source": [
        "tcs['daily_return'] = (tcs['Close']/ tcs['Close'].shift(1)) -1\n",
        "ril[\"daily_return\"] = (ril[\"Close\"]/ ril[\"Close\"].shift(1)) -1\n",
        "bank[\"daily_return\"] = (bank[\"Close\"]/ bank[\"Close\"].shift(1)) -1\n",
        "bajfin[\"daily_return\"] = (bajfin[\"Close\"]/ bajfin[\"Close\"].shift(1)) -1\n",
        "artl[\"daily_return\"] = (artl[\"Close\"]/ artl[\"Close\"].shift(1)) -1\n"
      ],
      "metadata": {
        "id": "Fu7lDTwzgZB5"
      },
      "execution_count": null,
      "outputs": []
    },
    {
      "cell_type": "code",
      "source": [
        "fig = make_subplots(rows=2, cols=3)\n",
        "plt.figure\n",
        "fig.add_trace(\n",
        "   go.Scatter(y=tcs.Close,x=tcs.Date,name=\"TCS\"),\n",
        "    row=1, col=1\n",
        ")\n",
        "\n",
        "fig.add_trace(\n",
        "    go.Scatter(y=ril.Close,x=ril.Date,name=\"RIL\"),\n",
        "    row=1, col=2\n",
        ")\n",
        "fig.add_trace(\n",
        "    go.Scatter(y=bank.Close,x=bank.Date,name=\"ICICI\"),\n",
        "    row=2, col=1\n",
        ")\n",
        "fig.add_trace(\n",
        "    go.Scatter(y=bajfin.Close,x=bajfin.Date,name=\"Bajaj_fin\"),\n",
        "    row=2,col=2\n",
        ")\n",
        "\n",
        "\n",
        "fig.update_layout(height=600, width=900, title_text=\"Closing Price of different stocks throughout the year\")\n",
        "fig.show()"
      ],
      "metadata": {
        "id": "bR5gXkVngZEX"
      },
      "execution_count": null,
      "outputs": []
    },
    {
      "cell_type": "code",
      "source": [
        "fig = make_subplots(rows=2, cols=3)\n",
        "plt.figure\n",
        "fig.add_trace(\n",
        "   go.Scatter(y=tcs.Close,x=tcs.Date,name=\"TCS\"),\n",
        "    row=1, col=1\n",
        ")\n",
        "\n",
        "fig.add_trace(\n",
        "    go.Scatter(y=ril.Close,x=ril.Date,name=\"RIL\"),\n",
        "    row=1, col=2\n",
        ")\n",
        "fig.add_trace(\n",
        "    go.Scatter(y=bank.Close,x=bank.Date,name=\"ICICI\"),\n",
        "    row=2, col=1\n",
        ")\n",
        "fig.add_trace(\n",
        "    go.Scatter(y=bajfin.Close,x=bajfin.Date,name=\"Bajaj_fin\"),\n",
        "    row=2,col=2\n",
        ")\n",
        "\n",
        "\n",
        "fig.update_layout(height=600, width=900, title_text=\"Closing Price of different stocks throughout the year\")\n",
        "fig.show()"
      ],
      "metadata": {
        "id": "jHc5peYbgZH3"
      },
      "execution_count": null,
      "outputs": []
    },
    {
      "cell_type": "code",
      "source": [
        "fig = make_subplots(rows=2, cols=2)\n",
        "\n",
        "fig.add_trace(\n",
        "   go.Scatter(y=tcs.Volume,x=tcs.Date,name=\"TCS\"),\n",
        "    row=1, col=1\n",
        ")\n",
        "\n",
        "fig.add_trace(\n",
        "    go.Scatter(y=ril.Volume,x=ril.Date,name=\"RIL\"),\n",
        "    row=1, col=2\n",
        ")\n",
        "fig.add_trace(\n",
        "    go.Scatter(y=bank.Volume,x=bank.Date,name=\"ICICI\"),\n",
        "    row=2, col=1\n",
        ")\n",
        "fig.add_trace(\n",
        "    go.Scatter(y=bajfin.Volume,x=bajfin.Date,name=\"Bajaj_fin\"),\n",
        "    row=2,col=2\n",
        ")\n",
        "\n",
        "\n",
        "fig.update_layout(height=600, width=900, title_text=\"Volume of different stocks in the market\")\n",
        "fig.show()"
      ],
      "metadata": {
        "id": "XxmLSXsYhBNb"
      },
      "execution_count": null,
      "outputs": []
    },
    {
      "cell_type": "code",
      "source": [
        "tcs[\"MarketCap\"]=tcs[\"Open\"]*tcs[\"Volume\"]\n",
        "ril[\"MarketCap\"]=ril[\"Open\"]*ril[\"Volume\"]\n",
        "bank[\"MarketCap\"]=bank[\"Open\"]*bank[\"Volume\"]\n",
        "bajfin[\"MarketCap\"]=bajfin[\"Open\"]*bajfin[\"Volume\"]"
      ],
      "metadata": {
        "id": "bXXt9ghvhBQC"
      },
      "execution_count": null,
      "outputs": []
    },
    {
      "cell_type": "code",
      "source": [
        "fig = make_subplots(rows=2, cols=2)\n",
        "\n",
        "fig.add_trace(\n",
        "   go.Scatter(y=tcs.MarketCap,x=tcs.Date,name=\"TCS\"),\n",
        "    row=1, col=1\n",
        ")\n",
        "\n",
        "fig.add_trace(\n",
        "    go.Scatter(y=ril.MarketCap,x=ril.Date,name=\"RIL\"),\n",
        "    row=1, col=2\n",
        ")\n",
        "fig.add_trace(\n",
        "    go.Scatter(y=bank.MarketCap,x=bank.Date,name=\"ICICI\"),\n",
        "    row=2, col=1\n",
        ")\n",
        "fig.add_trace(\n",
        "    go.Scatter(y=bajfin.MarketCap,x=bajfin.Date,name=\"Bajaj_fin\"),\n",
        "    row=2,col=2\n",
        ")\n",
        "\n",
        "\n",
        "fig.update_layout(height=600, width=900, title_text=\"Market Capitalisation of different stocks in the market\")\n",
        "fig.show()"
      ],
      "metadata": {
        "id": "uA5bgjnEhBSZ"
      },
      "execution_count": null,
      "outputs": []
    },
    {
      "cell_type": "code",
      "source": [
        "tcs['MA50'] = tcs['Open'].rolling(50).mean()\n",
        "tcs['MA200'] = tcs['Open'].rolling(200).mean()\n",
        "fig = go.Figure(data=[go.Candlestick(x=tcs.Date,\n",
        "                                     open=tcs.Open,\n",
        "                                     high=tcs.High,\n",
        "                                     low=tcs.Low,\n",
        "                                     close=tcs.Close),\n",
        "                      go.Scatter(x=tcs.Date, y=tcs.MA50, line=dict(color='orange', width=1),name=\"MA50\"),\n",
        "                      go.Scatter(x=tcs.Date, y=tcs.MA200, line=dict(color='green', width=1),name=\"MA200\")])\n",
        "fig.show()"
      ],
      "metadata": {
        "id": "gBEOcgR9hBU2"
      },
      "execution_count": null,
      "outputs": []
    },
    {
      "cell_type": "code",
      "source": [
        "ril['MA50'] = ril['Open'].rolling(50).mean()\n",
        "ril['MA200'] = ril['Open'].rolling(200).mean()\n",
        "fig = go.Figure(data=[go.Candlestick(x=ril.Date,\n",
        "                                     open=ril.Open,\n",
        "                                     high=ril.High,\n",
        "                                     low=ril.Low,\n",
        "                                     close=ril.Close),\n",
        "                      go.Scatter(x=ril.Date, y=ril.MA50, line=dict(color='orange', width=1),name=\"MA50\"),\n",
        "                      go.Scatter(x=ril.Date, y=ril.MA200, line=dict(color='green', width=1),name=\"MA200\")])\n",
        "fig.show()"
      ],
      "metadata": {
        "id": "jIim9iOshBXT"
      },
      "execution_count": null,
      "outputs": []
    },
    {
      "cell_type": "code",
      "source": [
        "bank['MA50'] = bank['Open'].rolling(50).mean()\n",
        "bank['MA200'] = bank['Open'].rolling(200).mean()\n",
        "fig = go.Figure(data=[go.Candlestick(x=bank.Date,\n",
        "                                     open=bank.Open,\n",
        "                                     high=bank.High,\n",
        "                                     low=bank.Low,\n",
        "                                     close=bank.Close),\n",
        "                      go.Scatter(x=bank.Date, y=bank.MA50, line=dict(color='orange', width=1),name=\"MA50\"),\n",
        "                      go.Scatter(x=bank.Date, y=bank.MA200, line=dict(color='green', width=1),name=\"MA200\")])\n",
        "fig.show()"
      ],
      "metadata": {
        "id": "s-sz72OHhBad"
      },
      "execution_count": null,
      "outputs": []
    },
    {
      "cell_type": "code",
      "source": [
        "bajfin['MA50'] = bajfin['Open'].rolling(50).mean()\n",
        "bajfin['MA200'] = bajfin['Open'].rolling(200).mean()\n",
        "fig = go.Figure(data=[go.Candlestick(x=bank.Date,\n",
        "                                     open=bajfin.Open,\n",
        "                                     high=bajfin.High,\n",
        "                                     low=bajfin.Low,\n",
        "                                     close=bajfin.Close),\n",
        "                      go.Scatter(x=bajfin.Date, y=bajfin.MA50, line=dict(color='orange', width=1),name=\"MA50\"),\n",
        "                      go.Scatter(x=bajfin.Date, y=bajfin.MA200, line=dict(color='green', width=1),name=\"MA200\")])\n",
        "fig.show()"
      ],
      "metadata": {
        "id": "3IZsVPFzhBd-"
      },
      "execution_count": null,
      "outputs": []
    },
    {
      "cell_type": "code",
      "source": [
        "#Setting the range of base plot\n",
        "fig = px.line(tcs, x='Date', y='High',title=\"TCS: Day's High Price during Phase 1 Lockdown(RED)(25 March – 14 April) and Phase 2 Lockdown (GREEN)(15 April – 3 May)\", range_x=['2020-01-01','2020-06-30'])\n",
        "\n",
        "# Adding the shape in the dates\n",
        "fig.update_layout(\n",
        "        shapes=[\n",
        "            # First phase Lockdown\n",
        "            dict(type=\"rect\",xref=\"x\",yref=\"paper\",x0=\"2020-03-23\",y0=0,x1=\"2020-04-14\",y1=1,fillcolor=\"Red\",opacity=0.5,layer=\"below\",line_width=0,),\n",
        "            # Second phase Lockdown\n",
        "            dict(type=\"rect\",xref=\"x\",yref=\"paper\",x0=\"2020-04-15\",y0=0,x1=\"2020-05-03\",y1=1,fillcolor=\"Green\",opacity=0.5,layer=\"below\",line_width=0,)\n",
        "                ])\n",
        "fig.show()"
      ],
      "metadata": {
        "id": "dPNUHgDZhPfe"
      },
      "execution_count": null,
      "outputs": []
    },
    {
      "cell_type": "code",
      "source": [
        "#Setting the range of base plot\n",
        "fig = px.line(ril, x='Date', y='High',title=\"RIL: Day's High Price during Phase 1 Lockdown(RED)(25 March – 14 April) and Phase 2 Lockdown (GREEN)(15 April – 3 May)\", range_x=['2020-01-01','2020-06-30'])\n",
        "\n",
        "# Adding the shape in the dates\n",
        "fig.update_layout(\n",
        "        shapes=[\n",
        "            # First phase Lockdown\n",
        "            dict(type=\"rect\",xref=\"x\",yref=\"paper\",x0=\"2020-03-23\",y0=0,x1=\"2020-04-14\",y1=1,fillcolor=\"Red\",opacity=0.5,layer=\"below\",line_width=0,),\n",
        "            # Second phase Lockdown\n",
        "            dict(type=\"rect\",xref=\"x\",yref=\"paper\",x0=\"2020-04-15\",y0=0,x1=\"2020-05-03\",y1=1,fillcolor=\"Green\",opacity=0.5,layer=\"below\",line_width=0,)\n",
        "                ])\n",
        "fig.show()"
      ],
      "metadata": {
        "id": "L5HejrfShPjy"
      },
      "execution_count": null,
      "outputs": []
    },
    {
      "cell_type": "code",
      "source": [
        "#Setting the range of base plot\n",
        "fig = px.line(bank, x='Date', y='High',title=\"ICICI Bank:Day's High Price during Phase 1 Lockdown(RED)(25 March – 14 April) and Phase 2 Lockdown (GREEN)(15 April – 3 May)\", range_x=['2020-01-01','2020-06-30'])\n",
        "\n",
        "# Adding the shape in the dates\n",
        "fig.update_layout(\n",
        "        shapes=[\n",
        "            # First phase Lockdown\n",
        "            dict(type=\"rect\",xref=\"x\",yref=\"paper\",x0=\"2020-03-23\",y0=0,x1=\"2020-04-14\",y1=1,fillcolor=\"Red\",opacity=0.5,layer=\"below\",line_width=0,),\n",
        "            # Second phase Lockdown\n",
        "            dict(type=\"rect\",xref=\"x\",yref=\"paper\",x0=\"2020-04-15\",y0=0,x1=\"2020-05-03\",y1=1,fillcolor=\"Green\",opacity=0.5,layer=\"below\",line_width=0,)\n",
        "                ])\n",
        "fig.show()"
      ],
      "metadata": {
        "id": "xq06nkVZhPog"
      },
      "execution_count": null,
      "outputs": []
    },
    {
      "cell_type": "code",
      "source": [
        "#Setting the range of base plot\n",
        "fig = px.line(bajfin, x='Date', y='High',title=\"Bajaj finserv:Day's High Price during Phase 1 Lockdown(RED)(25 March – 14 April) and Phase 2 Lockdown (GREEN)(15 April – 3 May)\", range_x=['2020-01-01','2020-06-30'])\n",
        "\n",
        "# Adding the shape in the dates\n",
        "fig.update_layout(\n",
        "        shapes=[\n",
        "            # First phase Lockdown\n",
        "            dict(type=\"rect\",xref=\"x\",yref=\"paper\",x0=\"2020-03-23\",y0=0,x1=\"2020-04-14\",y1=1,fillcolor=\"Red\",opacity=0.5,layer=\"below\",line_width=0,),\n",
        "            # Second phase Lockdown\n",
        "            dict(type=\"rect\",xref=\"x\",yref=\"paper\",x0=\"2020-04-15\",y0=0,x1=\"2020-05-03\",y1=1,fillcolor=\"Green\",opacity=0.5,layer=\"below\",line_width=0,)\n",
        "                ])\n",
        "fig.show()"
      ],
      "metadata": {
        "id": "ucvEcM4ShPrm"
      },
      "execution_count": null,
      "outputs": []
    },
    {
      "cell_type": "code",
      "source": [
        "fig = make_subplots(rows=2, cols=3)\n",
        "plt.figure\n",
        "fig.add_trace(\n",
        "   go.Scatter(y=tcs.High,x=tcs.Date,name=\"TCS\"),\n",
        "    row=1, col=1\n",
        ")\n",
        "\n",
        "fig.add_trace(\n",
        "    go.Scatter(y=ril.High,x=ril.Date,name=\"RIL\"),\n",
        "    row=1, col=2\n",
        ")\n",
        "fig.add_trace(\n",
        "    go.Scatter(y=bank.High,x=bank.Date,name=\"ICICI\"),\n",
        "    row=2, col=1\n",
        ")\n",
        "fig.add_trace(\n",
        "    go.Scatter(y=bajfin.High,x=bajfin.Date,name=\"Bajaj_fin\"),\n",
        "    row=2,col=2\n",
        ")\n",
        "\n",
        "\n",
        "fig.update_layout(height=600, width=900, title_text=\"All time high prices of different stocks\")\n",
        "fig.show()"
      ],
      "metadata": {
        "id": "NvTvjLDghPvU"
      },
      "execution_count": null,
      "outputs": []
    },
    {
      "cell_type": "code",
      "source": [
        "fig = make_subplots(rows=2, cols=3)\n",
        "plt.figure\n",
        "fig.add_trace(\n",
        "   go.Scatter(y=tcs.Low,x=tcs.Date,name=\"TCS\"),\n",
        "    row=1, col=1\n",
        ")\n",
        "\n",
        "fig.add_trace(\n",
        "    go.Scatter(y=ril.Low,x=ril.Date,name=\"RIL\"),\n",
        "    row=1, col=2\n",
        ")\n",
        "fig.add_trace(\n",
        "    go.Scatter(y=bank.Low,x=bank.Date,name=\"ICICI\"),\n",
        "    row=2, col=1\n",
        ")\n",
        "fig.add_trace(\n",
        "    go.Scatter(y=bajfin.Low,x=bajfin.Date,name=\"Bajaj_fin\"),\n",
        "    row=2,col=2\n",
        ")\n",
        "\n",
        "\n",
        "fig.update_layout(height=600, width=900, title_text=\"All time low prices of different stock\")\n",
        "fig.show()"
      ],
      "metadata": {
        "id": "OpsV1S8VhP30"
      },
      "execution_count": null,
      "outputs": []
    },
    {
      "cell_type": "code",
      "source": [
        "model=Prophet()"
      ],
      "metadata": {
        "id": "b4XoaPLnhiWh"
      },
      "execution_count": null,
      "outputs": []
    },
    {
      "cell_type": "code",
      "source": [
        "tcs[[\"ds\",\"y\"]]=tcs[[\"Date\",\"Close\"]]"
      ],
      "metadata": {
        "id": "WIQJxXoshiZA"
      },
      "execution_count": null,
      "outputs": []
    },
    {
      "cell_type": "code",
      "source": [
        "model.fit(tcs)"
      ],
      "metadata": {
        "id": "kXHONQPchico"
      },
      "execution_count": null,
      "outputs": []
    },
    {
      "cell_type": "code",
      "source": [
        "model.plot(forecast,xlabel=\"Years\",ylabel=\"Close\")\n",
        "plt.title(\"TCS close price for upcoming years\")\n",
        "plt.show()"
      ],
      "metadata": {
        "id": "oHnsv0IHhikj"
      },
      "execution_count": null,
      "outputs": []
    }
  ]
}